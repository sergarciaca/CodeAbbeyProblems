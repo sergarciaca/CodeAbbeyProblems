{
  "nbformat": 4,
  "nbformat_minor": 0,
  "metadata": {
    "colab": {
      "name": "Ejercicios CodeAbbey.ipynb",
      "provenance": [],
      "authorship_tag": "ABX9TyM8NBX9xU5C/b3t5/3yn0yn",
      "include_colab_link": true
    },
    "kernelspec": {
      "name": "python3",
      "display_name": "Python 3"
    },
    "language_info": {
      "name": "python"
    }
  },
  "cells": [
    {
      "cell_type": "markdown",
      "metadata": {
        "id": "view-in-github",
        "colab_type": "text"
      },
      "source": [
        "<a href=\"https://colab.research.google.com/github/sergarciaca/CodeAbbeyProblems/blob/main/Ejercicios_CodeAbbey.ipynb\" target=\"_parent\"><img src=\"https://colab.research.google.com/assets/colab-badge.svg\" alt=\"Open In Colab\"/></a>"
      ]
    },
    {
      "cell_type": "markdown",
      "source": [
        "**Problem**. Sum \"A\"+\"B\""
      ],
      "metadata": {
        "id": "UP734EzivQSO"
      }
    },
    {
      "cell_type": "code",
      "source": [
        "nums=[int(x) for x in(input().split())]\n",
        "sum=0\n",
        "for i in nums:\n",
        "    sum=sum+i\n",
        "print(sum)"
      ],
      "metadata": {
        "id": "8jDxbqRfvURZ"
      },
      "execution_count": null,
      "outputs": []
    },
    {
      "cell_type": "markdown",
      "source": [
        "**Problem .** Sum loop"
      ],
      "metadata": {
        "id": "8Em_vJzjxi3c"
      }
    },
    {
      "cell_type": "code",
      "source": [
        "n=int(input())\n",
        "sum1=0\n",
        "num=[int(x) for x in(input().split())]\n",
        "for i in num:\n",
        "    sum1=sum1+i\n",
        "print(sum1) "
      ],
      "metadata": {
        "id": "HZsBY6D4xjC-"
      },
      "execution_count": null,
      "outputs": []
    },
    {
      "cell_type": "markdown",
      "source": [
        "**Problem .** Sums in loops"
      ],
      "metadata": {
        "id": "Tu5QuoJkzHKF"
      }
    },
    {
      "cell_type": "code",
      "source": [
        "n=int(input())\n",
        "for i in range(n):\n",
        "    sum1=0\n",
        "    nums=[int(x) for x in(input().split())]\n",
        "    for i in nums:\n",
        "        sum1=sum1+i\n",
        "    print(sum1,'')"
      ],
      "metadata": {
        "id": "gLONrJKgzHRp"
      },
      "execution_count": null,
      "outputs": []
    },
    {
      "cell_type": "markdown",
      "source": [
        "**Problem **. Minimun of 2"
      ],
      "metadata": {
        "id": "vYJ9rjFa3f4j"
      }
    },
    {
      "cell_type": "code",
      "source": [
        "n=int(input())\n",
        "for i in range(n):\n",
        "    nums=[int(x) for x in(input().split())]\n",
        "    print(min(nums),'')"
      ],
      "metadata": {
        "id": "EANhATN6DsPJ"
      },
      "execution_count": null,
      "outputs": []
    },
    {
      "cell_type": "markdown",
      "source": [
        "**Problem .** Minimun of three"
      ],
      "metadata": {
        "id": "-vHWJG-FPQJH"
      }
    },
    {
      "cell_type": "code",
      "source": [
        "n=int(input())\n",
        "for i in range(n):\n",
        "    nums=[int(x) for x in(input().split())]\n",
        "    print(min(nums),'')"
      ],
      "metadata": {
        "id": "shCsp2-fDsUo"
      },
      "execution_count": null,
      "outputs": []
    },
    {
      "cell_type": "markdown",
      "source": [
        "**Problem 6. Maximum of array**"
      ],
      "metadata": {
        "id": "27Vs2g8zSlvd"
      }
    },
    {
      "cell_type": "code",
      "source": [
        "list=input().split()\n",
        "nums=[int(x) for x in list]\n",
        "print(max(nums),min(nums))"
      ],
      "metadata": {
        "id": "5At1pwuYSrmT"
      },
      "execution_count": null,
      "outputs": []
    },
    {
      "cell_type": "markdown",
      "source": [
        "**Problem .** Rounding"
      ],
      "metadata": {
        "id": "8CMYgmKpj8Dr"
      }
    },
    {
      "cell_type": "code",
      "source": [
        "n=int(input())\n",
        "for i in range(n):\n",
        "    A=[int(x) for x in(input().split())]\n",
        "    if type(A[0]/A[1])==int:\n",
        "        print(A[0]/A[1],'')\n",
        "    if (A[0]/A[1])>0:\n",
        "        if (A[0]/A[1])-int(A[0]/A[1])>=1/2 :\n",
        "            print(int(A[0]/A[1])+1,'')\n",
        "        if (A[0]/A[1])-int(A[0]/A[1])<1/2:\n",
        "            print(int(A[0]/A[1]),'')\n",
        "    if (A[0]/A[1])<0:\n",
        "        if (A[0]/A[1])-int(A[0]/A[1])>=-1/2:\n",
        "            print(int(A[0]/A[1]),'')\n",
        "        if (A[0]/A[1])-int(A[0]/A[1])<-1/2:\n",
        "            print(int(A[0]/A[1])-1,'')"
      ],
      "metadata": {
        "id": "dxWjUMcPj8Oy"
      },
      "execution_count": null,
      "outputs": []
    },
    {
      "cell_type": "markdown",
      "source": [
        "**Problem . Fahrenheit to Celsius**"
      ],
      "metadata": {
        "id": "6_KUdrg4T-yC"
      }
    },
    {
      "cell_type": "code",
      "source": [
        "A=input().split()\n",
        "far=[int(x) for x in A]\n",
        "cel=[(5/9)*(x-32) for x in far]\n",
        "celr=[]\n",
        "for i in cel:\n",
        "    if type(i)==int:\n",
        "        celr.append(i)\n",
        "    if (i)>0:\n",
        "        if (i)-int(i)>=1/2 :\n",
        "            celr.append(int(i)+1)\n",
        "        if (i)-int(i)<1/2:\n",
        "            celr.append(int(i))\n",
        "    if i<0:\n",
        "        if i-int(i)>=-1/2:\n",
        "            celr.append(int(i))\n",
        "        if (i)-int(i)<-1/2:\n",
        "            celr.append(int(i)-1)\n",
        "del(celr[0])\n",
        "for i in celr:\n",
        "    print(i,'')"
      ],
      "metadata": {
        "id": "fB_dNzxLUEwJ"
      },
      "execution_count": null,
      "outputs": []
    },
    {
      "cell_type": "markdown",
      "source": [
        "**Problem. Vowel Count**"
      ],
      "metadata": {
        "id": "OIBHfnbFUHXo"
      }
    },
    {
      "cell_type": "code",
      "source": [
        "nul=int(input())\n",
        "voc=['a','e','i','o','u','y']\n",
        "for i in range(nul):\n",
        "    vow=0\n",
        "    lin=input().lower()\n",
        "    for j in range(len(lin)):\n",
        "        if lin[j] in voc:\n",
        "            vow=vow+1\n",
        "    print(vow,'')"
      ],
      "metadata": {
        "id": "rxxMfgP5UMpQ"
      },
      "execution_count": null,
      "outputs": []
    },
    {
      "cell_type": "markdown",
      "source": [
        "**Problem. Sum of digits**"
      ],
      "metadata": {
        "id": "ALoUjkZoUPs8"
      }
    },
    {
      "cell_type": "code",
      "source": [
        "lines=int(input())\n",
        "\n",
        "for i in range(lines):\n",
        "    sum=0\n",
        "    nums=input().split()\n",
        "    calc=int(nums[0])*int(nums[1])+int(nums[2])\n",
        "    for j in range(len(str(calc))):\n",
        "        sum=sum+int(str(calc)[j])\n",
        "    print(sum,'')"
      ],
      "metadata": {
        "id": "vYCKbcnkVmkC"
      },
      "execution_count": null,
      "outputs": []
    },
    {
      "cell_type": "markdown",
      "source": [
        "**Problem. Arithmetic Progression**"
      ],
      "metadata": {
        "id": "Ss84m09dVnFD"
      }
    },
    {
      "cell_type": "code",
      "source": [
        "ls=int(input())\n",
        "for i in range(ls):\n",
        "    nums=input().split()\n",
        "    for j in range(int(len(nums))):\n",
        "        prog=0\n",
        "        suma=0\n",
        "        for k in range(int(nums[2])):\n",
        "            if k==0:\n",
        "                prog=int(nums[0])\n",
        "            else:    \n",
        "                prog=prog+int(nums[1])\n",
        "            suma=suma+prog\n",
        "    print(suma,'')    "
      ],
      "metadata": {
        "id": "n1Rb02cBVrVE"
      },
      "execution_count": null,
      "outputs": []
    },
    {
      "cell_type": "markdown",
      "source": [
        "**Problem. Median of Three**"
      ],
      "metadata": {
        "id": "REPsVZVkVuGa"
      }
    },
    {
      "cell_type": "code",
      "source": [
        "l=int(input())\n",
        "for i in range(0,l):\n",
        "    ls=input().split()\n",
        "    la=[int(x) for x in ls]\n",
        "    mx=max(la)\n",
        "    mn=min(la)\n",
        "    for j in range(len(la)):\n",
        "        if la[j]<mx and la[j]>mn:\n",
        "            print(la[j],'')"
      ],
      "metadata": {
        "id": "ZNCYyHP6VxIz"
      },
      "execution_count": null,
      "outputs": []
    },
    {
      "cell_type": "markdown",
      "source": [
        "**Problem . Body Mass Index**"
      ],
      "metadata": {
        "id": "5M97Cg0sV0Mm"
      }
    },
    {
      "cell_type": "code",
      "source": [
        "l=int(input())\n",
        "for i in range(l):\n",
        "    dt=input().split()\n",
        "    dti=[float(x) for x in dt]\n",
        "    for j in range(len(dti)):\n",
        "        w=dti[0]\n",
        "        h=dti[1]\n",
        "        bmi=w/(h**2)\n",
        "        if bmi<18.5:\n",
        "            print('under ')\n",
        "            break\n",
        "        if bmi>=18.5 and bmi<25.0:\n",
        "            print('normal ')\n",
        "            break\n",
        "        if bmi>=25.0 and bmi<30.0:\n",
        "            print('over ')\n",
        "            break\n",
        "        if bmi>=30.0:\n",
        "            print('obese ')\n",
        "            break"
      ],
      "metadata": {
        "id": "9K-QQAn8V30A"
      },
      "execution_count": null,
      "outputs": []
    },
    {
      "cell_type": "markdown",
      "source": [
        "**Problem. Weighted sum of digits**"
      ],
      "metadata": {
        "id": "rBgHpanBV3Mz"
      }
    },
    {
      "cell_type": "code",
      "source": [
        "l=int(input())\n",
        "n=[int(x) for x in input().split()]\n",
        "for j in range(len(n)):\n",
        "    dig=[int(x) for x in str(n[j])]\n",
        "    avs=0\n",
        "    for i in range(len(dig)):\n",
        "        avs=avs+(i+1)*dig[i]\n",
        "    print(avs,'')"
      ],
      "metadata": {
        "id": "UfkOCW7xV-pu"
      },
      "execution_count": null,
      "outputs": []
    },
    {
      "cell_type": "markdown",
      "source": [
        "**Problem . Triangles**"
      ],
      "metadata": {
        "id": "RYih8-YdWDZr"
      }
    },
    {
      "cell_type": "code",
      "source": [
        "ls=int(input())\n",
        "for i in range(ls):\n",
        "    sd=input().split()\n",
        "    sdi=[int(x) for x in sd]\n",
        "    if sdi[0]<sdi[1]+sdi[2] and sdi[1]<sdi[0]+sdi[2] and sdi[2]<sdi[1]+sdi[0]:\n",
        "        print(1,'')\n",
        "    else:\n",
        "        print(0,'')"
      ],
      "metadata": {
        "id": "Rch_ih90WGT3"
      },
      "execution_count": null,
      "outputs": []
    },
    {
      "cell_type": "markdown",
      "source": [
        "**Problem. Average of an array**"
      ],
      "metadata": {
        "id": "pGFf_bYNWJeP"
      }
    },
    {
      "cell_type": "code",
      "source": [
        "ls=int(input())\n",
        "for i in range(0,ls):\n",
        "    num=input().split()\n",
        "    num=[int(x) for x in num]\n",
        "    avg=0\n",
        "    l=len(num)\n",
        "    for j in range(0,l-1):\n",
        "        avg=avg+num[j]\n",
        "    avg=avg/(l-1)\n",
        "    if avg-int(avg)>=1/2:\n",
        "        avg=int(avg)+1\n",
        "    else:\n",
        "        avg=int(avg)\n",
        "    print(avg,'')"
      ],
      "metadata": {
        "id": "e4orSU3nWPZl"
      },
      "execution_count": null,
      "outputs": []
    },
    {
      "cell_type": "markdown",
      "source": [
        "**Problem. Dice Rolling**"
      ],
      "metadata": {
        "id": "bluGHHd6WTAt"
      }
    },
    {
      "cell_type": "code",
      "source": [
        "l=int(input())\n",
        "for i in range(l):\n",
        "    nums=input().split()\n",
        "    nums=[float(x) for x in nums]\n",
        "    m=1+int(6*nums[0])\n",
        "    print(m,'')"
      ],
      "metadata": {
        "id": "xoeNqNKwWWRJ"
      },
      "execution_count": null,
      "outputs": []
    },
    {
      "cell_type": "markdown",
      "source": [
        "**Problem. Reverse String**"
      ],
      "metadata": {
        "id": "ySMy0QDMWYs3"
      }
    },
    {
      "cell_type": "code",
      "source": [
        "words=input()\n",
        "rw=''\n",
        "l=len(words)\n",
        "for i in range(l):\n",
        "    rw=rw+words[l-1-i]\n",
        "print(rw)"
      ],
      "metadata": {
        "id": "GA84ZrSGWbzs"
      },
      "execution_count": null,
      "outputs": []
    },
    {
      "cell_type": "markdown",
      "source": [
        "**Problem. Linear Function**"
      ],
      "metadata": {
        "id": "LF0-3PzcWfFr"
      }
    },
    {
      "cell_type": "code",
      "source": [
        "nc=int(input())\n",
        "for i in range(nc):\n",
        "    cor=[int(x) for x in(input().split())]\n",
        "    x1=cor[0]\n",
        "    y1=cor[1]\n",
        "    x2=cor[2]\n",
        "    y2=cor[3]\n",
        "    a=int((y1-y2)/(x1-x2))\n",
        "    b=int(y1-a*x1)\n",
        "    print((a,b),'')"
      ],
      "metadata": {
        "id": "bYEOkmWiWiRo"
      },
      "execution_count": null,
      "outputs": []
    },
    {
      "cell_type": "markdown",
      "source": [
        "**Problem. Array Checksum**"
      ],
      "metadata": {
        "id": "nyawtnRyWlc0"
      }
    },
    {
      "cell_type": "code",
      "source": [
        "n=int(input())\n",
        "nums=[int(x) for x in(input().split())]\n",
        "res=0\n",
        "lim=10000007\n",
        "sd=113\n",
        "for i in range(n):\n",
        "    if res<lim:\n",
        "        res=(res+nums[i])*sd\n",
        "    else:\n",
        "        res=((res+nums[i])*sd)%lim\n",
        "print(res)"
      ],
      "metadata": {
        "id": "EcLDXbv6WpEf"
      },
      "execution_count": null,
      "outputs": []
    },
    {
      "cell_type": "markdown",
      "source": [
        "**Problem. Array Counters**"
      ],
      "metadata": {
        "id": "gkAwfAq4WsJg"
      }
    },
    {
      "cell_type": "code",
      "source": [
        "m=int(input().split()[1])\n",
        "n=input().split()\n",
        "for i in range(1,m+1):\n",
        "    ct=0\n",
        "    for j in range(len(n)):\n",
        "        if int(n[j])==i:\n",
        "            ct=ct+1\n",
        "    print(ct,'')"
      ],
      "metadata": {
        "id": "OvsfFbODWk0V"
      },
      "execution_count": null,
      "outputs": []
    },
    {
      "cell_type": "markdown",
      "source": [
        "**Problem - Collatz Sequence**"
      ],
      "metadata": {
        "id": "I57Y6aW1W2WQ"
      }
    },
    {
      "cell_type": "code",
      "source": [
        "n=int(input())\n",
        "nums=[int(x) for x in(input().split())]\n",
        "for i in range(n):\n",
        "    m=nums[i]\n",
        "    flag=True\n",
        "    ct=0\n",
        "    while flag==True:\n",
        "        if m==1:\n",
        "            flag=False\n",
        "            break\n",
        "        if m%2==0:\n",
        "            m=m/2\n",
        "            ct=ct+1\n",
        "        else:\n",
        "            m=3*m+1\n",
        "            ct=ct+1\n",
        "    print(ct,'') "
      ],
      "metadata": {
        "id": "MG7X2O3IW7rE"
      },
      "execution_count": null,
      "outputs": []
    },
    {
      "cell_type": "markdown",
      "source": [
        "**Problem - Modular Calculator**"
      ],
      "metadata": {
        "id": "0378siAxW_2B"
      }
    },
    {
      "cell_type": "code",
      "source": [
        "n=int(input())\n",
        "flag=True\n",
        "while flag==True:\n",
        "    op=input().split()\n",
        "    if op[0]=='*':\n",
        "        n=n*int(op[1])\n",
        "    if op[0]=='+':\n",
        "        n=n+int(op[1])\n",
        "    if op[0]=='%':\n",
        "        flag=False\n",
        "        n=n%int(op[1])\n",
        "        break\n",
        "print(n,'')  "
      ],
      "metadata": {
        "id": "3h7L29b5XCzq"
      },
      "execution_count": null,
      "outputs": []
    },
    {
      "cell_type": "markdown",
      "source": [
        "**Problem - Square Root**"
      ],
      "metadata": {
        "id": "W6fvF7jnXFex"
      }
    },
    {
      "cell_type": "code",
      "source": [
        "n=int(input())\n",
        "for i in range(n):\n",
        "    num=input().split()\n",
        "    r=1\n",
        "    x=int(num[0])\n",
        "    for i in range(int(num[1])):\n",
        "        r=(r+x/r)/2\n",
        "    print(r,'')"
      ],
      "metadata": {
        "id": "QeWXvWxaXIGp"
      },
      "execution_count": null,
      "outputs": []
    },
    {
      "cell_type": "markdown",
      "source": [
        "**Problem - Bubble in Array**"
      ],
      "metadata": {
        "id": "uFbhMSayXLbI"
      }
    },
    {
      "cell_type": "code",
      "source": [
        "n=[int(x) for x in(input().split())]\n",
        "n.remove(n[len(n)-1])\n",
        "l=len(n)\n",
        "j=0\n",
        "res=0\n",
        "lim=10000007\n",
        "sd=113\n",
        "for i in range(l-1):\n",
        "    if n[i]>n[i+1]:\n",
        "        t=n[i]\n",
        "        n[i]=n[i+1]\n",
        "        n[i+1]=t\n",
        "        j=j+1\n",
        "for i in range(l):\n",
        "    if res<lim:\n",
        "        res=(res+n[i])*sd\n",
        "    else:\n",
        "        res=((res+n[i])*sd)%lim        \n",
        "print(j,'',res)"
      ],
      "metadata": {
        "id": "Mby5BGYYXOpI"
      },
      "execution_count": null,
      "outputs": []
    },
    {
      "cell_type": "markdown",
      "source": [
        "**Problem - Pythagorean Theorem**"
      ],
      "metadata": {
        "id": "GsGMAyROXRXW"
      }
    },
    {
      "cell_type": "code",
      "source": [
        "n=int(input())\n",
        "for i in range(n):\n",
        "    tri=[int(x) for x in(input().split())]\n",
        "    a=tri[0]\n",
        "    b=tri[1]\n",
        "    c=tri[2]\n",
        "    if a**2+b**2==c**2:\n",
        "        print('R ')\n",
        "    if c<(a**2+b**2)**(1/2):\n",
        "        print('A ')\n",
        "    if c>(a**2+b**2)**(1/2):\n",
        "        print('O ')"
      ],
      "metadata": {
        "id": "523y83GlXVhp"
      },
      "execution_count": null,
      "outputs": []
    },
    {
      "cell_type": "markdown",
      "source": [
        "**Problem - Fibonacci Sequence**"
      ],
      "metadata": {
        "id": "GjJwbjrxXYIm"
      }
    },
    {
      "cell_type": "code",
      "source": [
        "def f(n):\n",
        "    f1=0\n",
        "    f2=1\n",
        "    j=2\n",
        "    if n==0:\n",
        "        return(f1)\n",
        "    if n==1:\n",
        "        return(f2)\n",
        "    else:\n",
        "        for i in range(n):\n",
        "            fi=f1+f2\n",
        "            f1=f2\n",
        "            f2=fi\n",
        "        return(fi)\n",
        "    \n",
        "n=int(input())\n",
        "for i in range(n):\n",
        "    fib=[int(x) for x in(input().split())]\n",
        "    flag=True\n",
        "    j=0\n",
        "    while flag==True:\n",
        "        if f(j)==fib[0]:\n",
        "            j=j+1\n",
        "            print(j,'')\n",
        "            flag=False\n",
        "            break\n",
        "        else:\n",
        "            j=j+1"
      ],
      "metadata": {
        "id": "TX4aby8rXbVC"
      },
      "execution_count": null,
      "outputs": []
    },
    {
      "cell_type": "markdown",
      "source": [
        "**Problem. Neumann's Random Generator**"
      ],
      "metadata": {
        "id": "OrJLgb72v4uF"
      }
    },
    {
      "cell_type": "code",
      "source": [
        "n=int(input())\n",
        "nums=[int(x) for x in(input().split())]\n",
        "for x in nums:\n",
        "    a=[]\n",
        "    j=1\n",
        "    flag=True\n",
        "    while flag==True:\n",
        "        x=int((x**2/100)%10000)\n",
        "        if x in a:\n",
        "            flag=False\n",
        "            break\n",
        "        else:\n",
        "            a.append(x)\n",
        "        j=j+1    \n",
        "    print(j,'')"
      ],
      "metadata": {
        "id": "TzdLJDvsv7Lz"
      },
      "execution_count": null,
      "outputs": []
    },
    {
      "cell_type": "markdown",
      "source": [
        "**Problem - Greatest Common Divisor**"
      ],
      "metadata": {
        "id": "fcj58c7rzpuw"
      }
    },
    {
      "cell_type": "code",
      "source": [
        "n=int(input())\n",
        "for i in range(n):\n",
        "    nums=[int(x) for x in(input().split())]\n",
        "    flag=True\n",
        "    ma=max(nums)\n",
        "    mi=min(nums)\n",
        "    while flag==True:\n",
        "        mx=max(nums)\n",
        "        mn=min(nums)\n",
        "        nums.remove(mx)\n",
        "        nums.append(mx-mn)\n",
        "        if mx==mn:\n",
        "            flag=False\n",
        "            break\n",
        "    gcd=mx\n",
        "    lcm=int((ma*mi)/gcd)\n",
        "    str1='('+str(gcd)+' '+str(lcm)+')'\n",
        "    print(str1,'')"
      ],
      "metadata": {
        "id": "QMXaypkdzstj"
      },
      "execution_count": null,
      "outputs": []
    },
    {
      "cell_type": "markdown",
      "source": [
        "**Problem - Palindromes**"
      ],
      "metadata": {
        "id": "RTK-nweVxRY8"
      }
    },
    {
      "cell_type": "code",
      "source": [
        "def rs(string):\n",
        "    string = string.replace(' ','')\n",
        "    return string\n",
        "    \n",
        "n=int(input())\n",
        "for n in range(n):\n",
        "    word=input()\n",
        "    word=rs(word)\n",
        "    word=word.lower()\n",
        "    wrd=[x for x in word]\n",
        "    flag=True\n",
        "    j=0\n",
        "    fh=[]\n",
        "    sh=[]\n",
        "    for i in wrd:\n",
        "        if i==',' or i=='-':\n",
        "            wrd.remove(i)\n",
        "    l=len(wrd)        \n",
        "    for i in range(int(l/2)):\n",
        "        fh.append(wrd[i])\n",
        "        sh.append(wrd[l-i-1])\n",
        "    if fh==sh:\n",
        "        print('Y ')\n",
        "    else:\n",
        "        print('N ')\n"
      ],
      "metadata": {
        "id": "vhAV_7eXxWgw"
      },
      "execution_count": null,
      "outputs": []
    },
    {
      "cell_type": "markdown",
      "source": [
        "**Problem - Rotate String**"
      ],
      "metadata": {
        "id": "idTfF4x74wTu"
      }
    },
    {
      "cell_type": "code",
      "source": [
        "def ss(l1,n):\n",
        "    l=len(l1)\n",
        "    if n>l:\n",
        "        print('Error')\n",
        "    if n>=0:\n",
        "        b1=l1[0:n]\n",
        "        l1=l1[n:l]\n",
        "    else:\n",
        "        b1=l1[l-abs(n):l]\n",
        "        l1=l1[0:l-abs(n)]\n",
        "    return b1,l1\n",
        "def jl(l1,l2):\n",
        "    l3=l1+l2\n",
        "    return l3\n",
        "m=int(input())\n",
        "for i in range(m):\n",
        "    nw=input().split()\n",
        "    n=int(nw[0])\n",
        "    w=[x for x in nw[1]]\n",
        "    l=ss(w,n)\n",
        "    if n>=0:\n",
        "        w=jl(l[1],l[0])\n",
        "    else:\n",
        "        w=jl(l[0],l[1])\n",
        "    iw=''\n",
        "    for i in w:\n",
        "        iw=iw+i\n",
        "    print(iw,'')"
      ],
      "metadata": {
        "id": "o2p7Kuyx4wjA"
      },
      "execution_count": null,
      "outputs": []
    },
    {
      "cell_type": "markdown",
      "source": [
        "**Problem - Bicycle Race**"
      ],
      "metadata": {
        "id": "-F_J2ecX43SG"
      }
    },
    {
      "cell_type": "code",
      "source": [
        "n=int(input())\n",
        "for i in range(n):\n",
        "    dat=[int(x) for x in(input().split())]\n",
        "    S=dat[0]\n",
        "    A=dat[1]\n",
        "    B=dat[2]\n",
        "    rdv=(A/(A+B))*S\n",
        "    print(rdv,'')"
      ],
      "metadata": {
        "id": "Ktg8pjxH6bCm"
      },
      "execution_count": null,
      "outputs": []
    },
    {
      "cell_type": "markdown",
      "source": [
        "\n",
        "**Problem - Smoothing the Weather**"
      ],
      "metadata": {
        "id": "oNkcDOGq6e-A"
      }
    },
    {
      "cell_type": "code",
      "source": [
        "n=int(input())\n",
        "nums=[float(x) for x in(input().split())]\n",
        "rnums=[nums[0]]\n",
        "for i in range(1,n):\n",
        "    if i<n-1:\n",
        "        m=(nums[i-1]+nums[i]+nums[i+1])/3\n",
        "        rnums.append(m)\n",
        "    else:\n",
        "        rnums.append(nums[n-1])\n",
        "str1=''\n",
        "for i in rnums:\n",
        "    str1=str1+str(i)+' '\n",
        "print(str1)"
      ],
      "metadata": {
        "id": "sU7O6zlmH4UG"
      },
      "execution_count": null,
      "outputs": []
    },
    {
      "cell_type": "markdown",
      "source": [
        "**Problem - Savings Calculator**"
      ],
      "metadata": {
        "id": "RFMM6s-7IPx0"
      }
    },
    {
      "cell_type": "code",
      "source": [
        "n=int(input())\n",
        "for i in range(n):\n",
        "    dat=[int(x) for x in(input().split())]\n",
        "    S=dat[0]\n",
        "    R=dat[1]\n",
        "    P=dat[2]\n",
        "    flag=True\n",
        "    j=0\n",
        "    Sj=S\n",
        "    while flag==True:\n",
        "        Sj=S*((P/100)+1)**j\n",
        "        Sj=int(Sj*100)/100\n",
        "        if Sj>=R:\n",
        "            print(j,'')\n",
        "            flag=False\n",
        "            break\n",
        "        else:\n",
        "            j=j+1"
      ],
      "metadata": {
        "id": "KB1HloXuVnd1"
      },
      "execution_count": null,
      "outputs": []
    },
    {
      "cell_type": "markdown",
      "source": [
        "**Problem - Linear Congruential Generator**"
      ],
      "metadata": {
        "id": "QyPoM5laXSOE"
      }
    },
    {
      "cell_type": "code",
      "source": [
        "n=int(input())\n",
        "for i in range(n):\n",
        "    dat=[int(x) for x in(input().split())]\n",
        "    A=dat[0]\n",
        "    C=dat[1]\n",
        "    M=dat[2]\n",
        "    x0=dat[3]\n",
        "    N=dat[4]\n",
        "    x=x0\n",
        "    for i in range(N):\n",
        "        x=(A*x+C)%M\n",
        "    print(x,'')    "
      ],
      "metadata": {
        "id": "DECkgukMXSVw"
      },
      "execution_count": null,
      "outputs": []
    },
    {
      "cell_type": "markdown",
      "source": [
        "**Problem - Double Dice Roll**"
      ],
      "metadata": {
        "id": "K_hCwBejXXag"
      }
    },
    {
      "cell_type": "code",
      "source": [
        "n=int(input())\n",
        "for i in range(n):\n",
        "    nums=[int(x) for x in(input().split())]\n",
        "    R1=nums[0]\n",
        "    R2=nums[1]\n",
        "    N=6\n",
        "    val1=R1%N+1\n",
        "    val2=R2%N+1\n",
        "    val=val1+val2\n",
        "    print(val,'')"
      ],
      "metadata": {
        "id": "dn9DIcA88CL9"
      },
      "execution_count": null,
      "outputs": []
    },
    {
      "cell_type": "markdown",
      "source": [
        "**Problem . Bit Counting**"
      ],
      "metadata": {
        "id": "AadDCl1W8LQ5"
      }
    },
    {
      "cell_type": "code",
      "source": [
        "n=int(input())\n",
        "nums=[int(x) for x in(input().split())]\n",
        "for i in nums:\n",
        "    c=0\n",
        "    if i<0:\n",
        "        i=-i\n",
        "        b=[x for x in bin(i)]\n",
        "        for j in range(len(b)):\n",
        "            if b[j]=='1':\n",
        "                b[j]='0'\n",
        "            else:\n",
        "                b[j]='1'\n",
        "                c=c+1\n",
        "    else:\n",
        "        b=[x for x in bin(i)]\n",
        "        for j in b:\n",
        "            if j=='1':\n",
        "                c=c+1\n",
        "    print(c,'')        "
      ],
      "metadata": {
        "id": "6qDXyNtf8K1y"
      },
      "execution_count": null,
      "outputs": []
    },
    {
      "cell_type": "markdown",
      "source": [
        "**Problem - Caesar Shift Cipher**"
      ],
      "metadata": {
        "id": "ombrarUqJtWw"
      }
    },
    {
      "cell_type": "code",
      "source": [
        "dat=input().split()\n",
        "n=int(dat[0])\n",
        "k=int(dat[1])\n",
        "abc=['A', 'B', 'C', 'D', 'E', 'F', 'G', 'H', 'I', 'J', 'K', 'L', 'M', 'N', 'O', 'P', 'Q', 'R', 'S', 'T', 'U', 'V', 'W', 'X', 'Y', 'Z']\n",
        "l=len(abc)\n",
        "shift=l-k\n",
        "for i in range(n):\n",
        "    w=input()\n",
        "    enc=[x for x in w]\n",
        "    dec=[]\n",
        "    for a in enc:\n",
        "        if a==' ' or a=='.':\n",
        "            dec.append(a)\n",
        "        else:\n",
        "            ind=abc.index(a)\n",
        "            if ind+shift>=l:\n",
        "                b=abc[ind+shift-l]\n",
        "                dec.append(b)\n",
        "            else:\n",
        "                b=abc[ind+shift]\n",
        "                dec.append(b)\n",
        "    decw=''\n",
        "    for i in dec:\n",
        "        decw=decw+i\n",
        "    print(decw,'')"
      ],
      "metadata": {
        "id": "oar7AlV7Oh9S"
      },
      "execution_count": null,
      "outputs": []
    },
    {
      "cell_type": "markdown",
      "source": [
        "**Problem - Triangle Area**"
      ],
      "metadata": {
        "id": "Lv5bxrM0V_Ne"
      }
    },
    {
      "cell_type": "code",
      "source": [
        "n=int(input())\n",
        "for i in range(n):\n",
        "    cord=[int(x) for x in(input().split())]\n",
        "    x1=cord[0]\n",
        "    y1=cord[1]\n",
        "    x2=cord[2]\n",
        "    y2=cord[3]\n",
        "    x3=cord[4]\n",
        "    y3=cord[5]\n",
        "    a=((x1-x2)**2+(y1-y2)**2)**(1/2)\n",
        "    b=((x1-x3)**2+(y1-y3)**2)**(1/2)\n",
        "    c=((x3-x2)**2+(y3-y2)**2)**(1/2)\n",
        "    s=(a+b+c)/2\n",
        "    area=((s)*(s-a)*(s-b)*(s-c))**(1/2)\n",
        "    print(area,'')"
      ],
      "metadata": {
        "id": "_ZZF_NUtWBMy"
      },
      "execution_count": null,
      "outputs": []
    },
    {
      "cell_type": "markdown",
      "source": [
        "**Problem - Rock Paper Scissors**"
      ],
      "metadata": {
        "id": "htuxdJZzWFFw"
      }
    },
    {
      "cell_type": "code",
      "source": [
        "n=int(input())\n",
        "for i in range(n):\n",
        "    plays=input().split()\n",
        "    lp=plays[len(plays)-1]\n",
        "    if lp=='RP' or lp=='SR' or lp=='PS':\n",
        "        print(2,'')\n",
        "    else:\n",
        "        print(1,'')"
      ],
      "metadata": {
        "id": "Sk-Nv4NEZXJZ"
      },
      "execution_count": null,
      "outputs": []
    },
    {
      "cell_type": "markdown",
      "source": [
        "**Problem - Card Names**"
      ],
      "metadata": {
        "id": "vC2-prD3Zb0c"
      }
    },
    {
      "cell_type": "code",
      "source": [
        "n=int(input())\n",
        "cards=[int(x) for x in(input().split())]\n",
        "suits = ['Clubs', 'Spades', 'Diamonds', 'Hearts']\n",
        "ranks = ['2', '3', '4', '5', '6', '7', '8', '9', '10', 'Jack', 'Queen', 'King', 'Ace']\n",
        "for i in cards:\n",
        "    suit_value = int(i/13)\n",
        "    rank_value = i%13\n",
        "    suit = suits[suit_value]\n",
        "    rank = ranks[rank_value]\n",
        "    print(rank+'-'+'of'+'-'+suit,'')"
      ],
      "metadata": {
        "id": "uXGxxokEZb_g"
      },
      "execution_count": null,
      "outputs": []
    },
    {
      "cell_type": "markdown",
      "source": [
        "**Problem - Matching Words**"
      ],
      "metadata": {
        "id": "vSWMePU4blzE"
      }
    },
    {
      "cell_type": "code",
      "source": [
        "def slex(stri):\n",
        "    words = stri.split()\n",
        "    words.sort()\n",
        "    for i in words:\n",
        "        print(i,'')\n",
        "        \n",
        "words=input().split()\n",
        "rw=set()\n",
        "st=''\n",
        "for i in words:\n",
        "    c=words.count(i)\n",
        "    if c>1:\n",
        "        rw.add(i)\n",
        "for i in rw:\n",
        "    st=st+' '+i\n",
        "slex(st)   "
      ],
      "metadata": {
        "id": "olPOPg1-bmCe"
      },
      "execution_count": null,
      "outputs": []
    },
    {
      "cell_type": "markdown",
      "source": [
        "**Problem - Bulls and Cows**"
      ],
      "metadata": {
        "id": "OfJKqLl2uB0z"
      }
    },
    {
      "cell_type": "code",
      "source": [
        "dat=[x for x in(input().split())]\n",
        "code=dat[0]\n",
        "numguess=dat[1]\n",
        "codel=[x for x in str(code)]\n",
        "guess=[x for x in input().split()]\n",
        "for g in guess:\n",
        "    c1=0\n",
        "    c2=0\n",
        "    gl=[x for x in str(g)]\n",
        "    for i in range(len(codel)):\n",
        "        if gl[i] in codel and gl[i]!=codel[i]:\n",
        "            c2=c2+1\n",
        "        if gl[i]==codel[i]:\n",
        "            c1=c1+1\n",
        "    str1=str(c1)+'-'+str(c2)        \n",
        "    print(str1,'')  "
      ],
      "metadata": {
        "id": "6q56Am6iuB8l"
      },
      "execution_count": null,
      "outputs": []
    }
  ]
}